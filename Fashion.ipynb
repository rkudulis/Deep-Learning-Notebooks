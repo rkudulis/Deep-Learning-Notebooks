{
  "nbformat": 4,
  "nbformat_minor": 0,
  "metadata": {
    "colab": {
      "name": "Fashion.ipynb",
      "provenance": [],
      "collapsed_sections": [],
      "toc_visible": true,
      "mount_file_id": "https://github.com/rkudulis/Deep-Learning-Notebooks/blob/main/Fashion.ipynb",
      "authorship_tag": "ABX9TyPBaxxGEawA15KEimOMhZP2"
    },
    "kernelspec": {
      "name": "python3",
      "display_name": "Python 3"
    },
    "language_info": {
      "name": "python"
    },
    "widgets": {
      "application/vnd.jupyter.widget-state+json": {
        "bcd9fed1976e4299a756e1e058dff3ce": {
          "model_module": "@jupyter-widgets/controls",
          "model_name": "HBoxModel",
          "state": {
            "_view_name": "HBoxView",
            "_dom_classes": [],
            "_model_name": "HBoxModel",
            "_view_module": "@jupyter-widgets/controls",
            "_model_module_version": "1.5.0",
            "_view_count": null,
            "_view_module_version": "1.5.0",
            "box_style": "",
            "layout": "IPY_MODEL_47a1370bfc2540089fa31e03ee3f4f7c",
            "_model_module": "@jupyter-widgets/controls",
            "children": [
              "IPY_MODEL_8c783a4e93c6418386ccf7f99d3a4dc8",
              "IPY_MODEL_17fdde347241432aab57e24d84dde58d"
            ]
          }
        },
        "47a1370bfc2540089fa31e03ee3f4f7c": {
          "model_module": "@jupyter-widgets/base",
          "model_name": "LayoutModel",
          "state": {
            "_view_name": "LayoutView",
            "grid_template_rows": null,
            "right": null,
            "justify_content": null,
            "_view_module": "@jupyter-widgets/base",
            "overflow": null,
            "_model_module_version": "1.2.0",
            "_view_count": null,
            "flex_flow": null,
            "width": null,
            "min_width": null,
            "border": null,
            "align_items": null,
            "bottom": null,
            "_model_module": "@jupyter-widgets/base",
            "top": null,
            "grid_column": null,
            "overflow_y": null,
            "overflow_x": null,
            "grid_auto_flow": null,
            "grid_area": null,
            "grid_template_columns": null,
            "flex": null,
            "_model_name": "LayoutModel",
            "justify_items": null,
            "grid_row": null,
            "max_height": null,
            "align_content": null,
            "visibility": null,
            "align_self": null,
            "height": null,
            "min_height": null,
            "padding": null,
            "grid_auto_rows": null,
            "grid_gap": null,
            "max_width": null,
            "order": null,
            "_view_module_version": "1.2.0",
            "grid_template_areas": null,
            "object_position": null,
            "object_fit": null,
            "grid_auto_columns": null,
            "margin": null,
            "display": null,
            "left": null
          }
        },
        "8c783a4e93c6418386ccf7f99d3a4dc8": {
          "model_module": "@jupyter-widgets/controls",
          "model_name": "FloatProgressModel",
          "state": {
            "_view_name": "ProgressView",
            "style": "IPY_MODEL_e655e2869cf04d1d82fada657a9fb9e7",
            "_dom_classes": [],
            "description": "100%",
            "_model_name": "FloatProgressModel",
            "bar_style": "success",
            "max": 102502400,
            "_view_module": "@jupyter-widgets/controls",
            "_model_module_version": "1.5.0",
            "value": 102502400,
            "_view_count": null,
            "_view_module_version": "1.5.0",
            "orientation": "horizontal",
            "min": 0,
            "description_tooltip": null,
            "_model_module": "@jupyter-widgets/controls",
            "layout": "IPY_MODEL_137a971fe4c94492b7e23dc9d8071739"
          }
        },
        "17fdde347241432aab57e24d84dde58d": {
          "model_module": "@jupyter-widgets/controls",
          "model_name": "HTMLModel",
          "state": {
            "_view_name": "HTMLView",
            "style": "IPY_MODEL_3428c67ab4544896a2a080e1e67ad728",
            "_dom_classes": [],
            "description": "",
            "_model_name": "HTMLModel",
            "placeholder": "​",
            "_view_module": "@jupyter-widgets/controls",
            "_model_module_version": "1.5.0",
            "value": " 97.8M/97.8M [10:49&lt;00:00, 158kB/s]",
            "_view_count": null,
            "_view_module_version": "1.5.0",
            "description_tooltip": null,
            "_model_module": "@jupyter-widgets/controls",
            "layout": "IPY_MODEL_7895a17183db4d2eab4362cfdc4cee6f"
          }
        },
        "e655e2869cf04d1d82fada657a9fb9e7": {
          "model_module": "@jupyter-widgets/controls",
          "model_name": "ProgressStyleModel",
          "state": {
            "_view_name": "StyleView",
            "_model_name": "ProgressStyleModel",
            "description_width": "initial",
            "_view_module": "@jupyter-widgets/base",
            "_model_module_version": "1.5.0",
            "_view_count": null,
            "_view_module_version": "1.2.0",
            "bar_color": null,
            "_model_module": "@jupyter-widgets/controls"
          }
        },
        "137a971fe4c94492b7e23dc9d8071739": {
          "model_module": "@jupyter-widgets/base",
          "model_name": "LayoutModel",
          "state": {
            "_view_name": "LayoutView",
            "grid_template_rows": null,
            "right": null,
            "justify_content": null,
            "_view_module": "@jupyter-widgets/base",
            "overflow": null,
            "_model_module_version": "1.2.0",
            "_view_count": null,
            "flex_flow": null,
            "width": null,
            "min_width": null,
            "border": null,
            "align_items": null,
            "bottom": null,
            "_model_module": "@jupyter-widgets/base",
            "top": null,
            "grid_column": null,
            "overflow_y": null,
            "overflow_x": null,
            "grid_auto_flow": null,
            "grid_area": null,
            "grid_template_columns": null,
            "flex": null,
            "_model_name": "LayoutModel",
            "justify_items": null,
            "grid_row": null,
            "max_height": null,
            "align_content": null,
            "visibility": null,
            "align_self": null,
            "height": null,
            "min_height": null,
            "padding": null,
            "grid_auto_rows": null,
            "grid_gap": null,
            "max_width": null,
            "order": null,
            "_view_module_version": "1.2.0",
            "grid_template_areas": null,
            "object_position": null,
            "object_fit": null,
            "grid_auto_columns": null,
            "margin": null,
            "display": null,
            "left": null
          }
        },
        "3428c67ab4544896a2a080e1e67ad728": {
          "model_module": "@jupyter-widgets/controls",
          "model_name": "DescriptionStyleModel",
          "state": {
            "_view_name": "StyleView",
            "_model_name": "DescriptionStyleModel",
            "description_width": "",
            "_view_module": "@jupyter-widgets/base",
            "_model_module_version": "1.5.0",
            "_view_count": null,
            "_view_module_version": "1.2.0",
            "_model_module": "@jupyter-widgets/controls"
          }
        },
        "7895a17183db4d2eab4362cfdc4cee6f": {
          "model_module": "@jupyter-widgets/base",
          "model_name": "LayoutModel",
          "state": {
            "_view_name": "LayoutView",
            "grid_template_rows": null,
            "right": null,
            "justify_content": null,
            "_view_module": "@jupyter-widgets/base",
            "overflow": null,
            "_model_module_version": "1.2.0",
            "_view_count": null,
            "flex_flow": null,
            "width": null,
            "min_width": null,
            "border": null,
            "align_items": null,
            "bottom": null,
            "_model_module": "@jupyter-widgets/base",
            "top": null,
            "grid_column": null,
            "overflow_y": null,
            "overflow_x": null,
            "grid_auto_flow": null,
            "grid_area": null,
            "grid_template_columns": null,
            "flex": null,
            "_model_name": "LayoutModel",
            "justify_items": null,
            "grid_row": null,
            "max_height": null,
            "align_content": null,
            "visibility": null,
            "align_self": null,
            "height": null,
            "min_height": null,
            "padding": null,
            "grid_auto_rows": null,
            "grid_gap": null,
            "max_width": null,
            "order": null,
            "_view_module_version": "1.2.0",
            "grid_template_areas": null,
            "object_position": null,
            "object_fit": null,
            "grid_auto_columns": null,
            "margin": null,
            "display": null,
            "left": null
          }
        }
      }
    },
    "accelerator": "GPU"
  },
  "cells": [
    {
      "cell_type": "markdown",
      "metadata": {
        "id": "558tffjKoWYJ"
      },
      "source": [
        "# Fashion Product Images Dataset\n",
        "\n",
        "The growing e-commerce industry presents us with a large dataset waiting to be scraped and researched upon. In addition to professionally shot high resolution product images, we also have multiple label attributes describing the product which was manually entered while cataloging. To add to this, we also have descriptive text that comments on the product characteristics."
      ]
    },
    {
      "cell_type": "code",
      "metadata": {
        "id": "NJ1F7KEWyBpA",
        "colab": {
          "base_uri": "https://localhost:8080/"
        },
        "outputId": "1759a70e-9400-43c3-b945-c8a1f2cb029a"
      },
      "source": [
        "from fastai.vision import *\n",
        "from sklearn.model_selection import train_test_split\n",
        "import warnings\n",
        "warnings.filterwarnings(\"ignore\", category=UserWarning, module=\"torch.nn.functional\")\n",
        "\n",
        "import torch\n",
        "from torch import nn\n",
        "from torchvision import transforms, utils\n",
        "import pandas as pd\n",
        "import numpy as np\n",
        "import matplotlib.pyplot as plt\n",
        "import os\n",
        "from PIL import Image\n",
        "import re\n",
        "from tqdm import tqdm\n",
        "\n",
        "from google.colab import drive\n",
        "drive.mount('/gdrive')"
      ],
      "execution_count": 1,
      "outputs": [
        {
          "output_type": "stream",
          "text": [
            "Mounted at /gdrive\n"
          ],
          "name": "stdout"
        }
      ]
    },
    {
      "cell_type": "code",
      "metadata": {
        "id": "gvupfp3IKnR8"
      },
      "source": [
        "# Run once per session\n",
        "\n",
        "! cp /gdrive/MyDrive/fashion-dataset.zip /content/ -v\n",
        "!unzip fashion-dataset.zip\n",
        "!rm fashion-dataset.zip"
      ],
      "execution_count": null,
      "outputs": []
    },
    {
      "cell_type": "code",
      "metadata": {
        "id": "DTamBAY2yXZP"
      },
      "source": [
        "IMAGES_PATH = \"/content/fashion-dataset/images\"\n",
        "STYLES_PATH = \"/content/fashion-dataset/styles\"\n",
        "STYLES_FILE_PATH = \"/content/fashion-dataset/styles.csv\"\n",
        "IMAGES_FILE_PATH = \"/content/fashion-dataset/images.csv\""
      ],
      "execution_count": 4,
      "outputs": []
    },
    {
      "cell_type": "code",
      "metadata": {
        "colab": {
          "base_uri": "https://localhost:8080/",
          "height": 263
        },
        "id": "Y_KpYvlqyxHw",
        "outputId": "6b71f6fb-2e93-492d-8295-762049d809c1"
      },
      "source": [
        "styles_df = pd.read_csv(STYLES_FILE_PATH, index_col=False, error_bad_lines=False)\n",
        "print(styles_df.shape)\n",
        "styles_df.head()"
      ],
      "execution_count": 5,
      "outputs": [
        {
          "output_type": "stream",
          "text": [
            "(44424, 10)\n"
          ],
          "name": "stdout"
        },
        {
          "output_type": "stream",
          "text": [
            "b'Skipping line 6044: expected 10 fields, saw 11\\nSkipping line 6569: expected 10 fields, saw 11\\nSkipping line 7399: expected 10 fields, saw 11\\nSkipping line 7939: expected 10 fields, saw 11\\nSkipping line 9026: expected 10 fields, saw 11\\nSkipping line 10264: expected 10 fields, saw 11\\nSkipping line 10427: expected 10 fields, saw 11\\nSkipping line 10905: expected 10 fields, saw 11\\nSkipping line 11373: expected 10 fields, saw 11\\nSkipping line 11945: expected 10 fields, saw 11\\nSkipping line 14112: expected 10 fields, saw 11\\nSkipping line 14532: expected 10 fields, saw 11\\nSkipping line 15076: expected 10 fields, saw 12\\nSkipping line 29906: expected 10 fields, saw 11\\nSkipping line 31625: expected 10 fields, saw 11\\nSkipping line 33020: expected 10 fields, saw 11\\nSkipping line 35748: expected 10 fields, saw 11\\nSkipping line 35962: expected 10 fields, saw 11\\nSkipping line 37770: expected 10 fields, saw 11\\nSkipping line 38105: expected 10 fields, saw 11\\nSkipping line 38275: expected 10 fields, saw 11\\nSkipping line 38404: expected 10 fields, saw 12\\n'\n"
          ],
          "name": "stderr"
        },
        {
          "output_type": "execute_result",
          "data": {
            "text/html": [
              "<div>\n",
              "<style scoped>\n",
              "    .dataframe tbody tr th:only-of-type {\n",
              "        vertical-align: middle;\n",
              "    }\n",
              "\n",
              "    .dataframe tbody tr th {\n",
              "        vertical-align: top;\n",
              "    }\n",
              "\n",
              "    .dataframe thead th {\n",
              "        text-align: right;\n",
              "    }\n",
              "</style>\n",
              "<table border=\"1\" class=\"dataframe\">\n",
              "  <thead>\n",
              "    <tr style=\"text-align: right;\">\n",
              "      <th></th>\n",
              "      <th>id</th>\n",
              "      <th>gender</th>\n",
              "      <th>masterCategory</th>\n",
              "      <th>subCategory</th>\n",
              "      <th>articleType</th>\n",
              "      <th>baseColour</th>\n",
              "      <th>season</th>\n",
              "      <th>year</th>\n",
              "      <th>usage</th>\n",
              "      <th>productDisplayName</th>\n",
              "    </tr>\n",
              "  </thead>\n",
              "  <tbody>\n",
              "    <tr>\n",
              "      <th>0</th>\n",
              "      <td>15970</td>\n",
              "      <td>Men</td>\n",
              "      <td>Apparel</td>\n",
              "      <td>Topwear</td>\n",
              "      <td>Shirts</td>\n",
              "      <td>Navy Blue</td>\n",
              "      <td>Fall</td>\n",
              "      <td>2011.0</td>\n",
              "      <td>Casual</td>\n",
              "      <td>Turtle Check Men Navy Blue Shirt</td>\n",
              "    </tr>\n",
              "    <tr>\n",
              "      <th>1</th>\n",
              "      <td>39386</td>\n",
              "      <td>Men</td>\n",
              "      <td>Apparel</td>\n",
              "      <td>Bottomwear</td>\n",
              "      <td>Jeans</td>\n",
              "      <td>Blue</td>\n",
              "      <td>Summer</td>\n",
              "      <td>2012.0</td>\n",
              "      <td>Casual</td>\n",
              "      <td>Peter England Men Party Blue Jeans</td>\n",
              "    </tr>\n",
              "    <tr>\n",
              "      <th>2</th>\n",
              "      <td>59263</td>\n",
              "      <td>Women</td>\n",
              "      <td>Accessories</td>\n",
              "      <td>Watches</td>\n",
              "      <td>Watches</td>\n",
              "      <td>Silver</td>\n",
              "      <td>Winter</td>\n",
              "      <td>2016.0</td>\n",
              "      <td>Casual</td>\n",
              "      <td>Titan Women Silver Watch</td>\n",
              "    </tr>\n",
              "    <tr>\n",
              "      <th>3</th>\n",
              "      <td>21379</td>\n",
              "      <td>Men</td>\n",
              "      <td>Apparel</td>\n",
              "      <td>Bottomwear</td>\n",
              "      <td>Track Pants</td>\n",
              "      <td>Black</td>\n",
              "      <td>Fall</td>\n",
              "      <td>2011.0</td>\n",
              "      <td>Casual</td>\n",
              "      <td>Manchester United Men Solid Black Track Pants</td>\n",
              "    </tr>\n",
              "    <tr>\n",
              "      <th>4</th>\n",
              "      <td>53759</td>\n",
              "      <td>Men</td>\n",
              "      <td>Apparel</td>\n",
              "      <td>Topwear</td>\n",
              "      <td>Tshirts</td>\n",
              "      <td>Grey</td>\n",
              "      <td>Summer</td>\n",
              "      <td>2012.0</td>\n",
              "      <td>Casual</td>\n",
              "      <td>Puma Men Grey T-shirt</td>\n",
              "    </tr>\n",
              "  </tbody>\n",
              "</table>\n",
              "</div>"
            ],
            "text/plain": [
              "      id gender  ...   usage                             productDisplayName\n",
              "0  15970    Men  ...  Casual               Turtle Check Men Navy Blue Shirt\n",
              "1  39386    Men  ...  Casual             Peter England Men Party Blue Jeans\n",
              "2  59263  Women  ...  Casual                       Titan Women Silver Watch\n",
              "3  21379    Men  ...  Casual  Manchester United Men Solid Black Track Pants\n",
              "4  53759    Men  ...  Casual                          Puma Men Grey T-shirt\n",
              "\n",
              "[5 rows x 10 columns]"
            ]
          },
          "metadata": {
            "tags": []
          },
          "execution_count": 5
        }
      ]
    },
    {
      "cell_type": "code",
      "metadata": {
        "colab": {
          "base_uri": "https://localhost:8080/"
        },
        "id": "XdJCsLyL0yzC",
        "outputId": "a5b210b4-34cb-49f6-803d-35e4b322a049"
      },
      "source": [
        "# Convert image names to integer\n",
        "\n",
        "images = os.listdir(\"/content/fashion-dataset/images\")\n",
        "images_list = [re.findall(r\"\\d+\", x)[0] for x in images]\n",
        "images_list = [int(x) for x in images_list]\n",
        "len(images_list)"
      ],
      "execution_count": 6,
      "outputs": [
        {
          "output_type": "execute_result",
          "data": {
            "text/plain": [
              "44441"
            ]
          },
          "metadata": {
            "tags": []
          },
          "execution_count": 6
        }
      ]
    },
    {
      "cell_type": "code",
      "metadata": {
        "colab": {
          "base_uri": "https://localhost:8080/"
        },
        "id": "Fnt09pziG_Df",
        "outputId": "6f20c1c4-58b7-4a5b-e15e-82e25df92e39"
      },
      "source": [
        "# Filter out df with existing images\n",
        "\n",
        "styles_df = styles_df[styles_df.id.isin(images_list)]\n",
        "styles_df.shape"
      ],
      "execution_count": 7,
      "outputs": [
        {
          "output_type": "execute_result",
          "data": {
            "text/plain": [
              "(44419, 10)"
            ]
          },
          "metadata": {
            "tags": []
          },
          "execution_count": 7
        }
      ]
    },
    {
      "cell_type": "code",
      "metadata": {
        "id": "cZFC9iIIzYnA"
      },
      "source": [
        "# Split data to train and test datasets\n",
        "\n",
        "train_df, valid_df = torch.utils.data.random_split(styles_df, [30_000, 14_419], generator=torch.Generator().manual_seed(42))"
      ],
      "execution_count": 9,
      "outputs": []
    },
    {
      "cell_type": "markdown",
      "metadata": {
        "id": "PRJgyQr3OMJD"
      },
      "source": [
        "## fastai benchmark"
      ]
    },
    {
      "cell_type": "code",
      "metadata": {
        "id": "IYN2s8bM412X"
      },
      "source": [
        "tfms = get_transforms(flip_vert=False, max_lighting=0.1, max_zoom=1.05, max_warp=0.)"
      ],
      "execution_count": 10,
      "outputs": []
    },
    {
      "cell_type": "code",
      "metadata": {
        "colab": {
          "base_uri": "https://localhost:8080/"
        },
        "id": "33F1ltxW5RTr",
        "outputId": "f9a76b65-3e0a-485d-cad1-875021b8f61e"
      },
      "source": [
        "path = Path('/content/fashion-dataset')\n",
        "path.mkdir(parents=True, exist_ok=True)\n",
        "path"
      ],
      "execution_count": 11,
      "outputs": [
        {
          "output_type": "execute_result",
          "data": {
            "text/plain": [
              "PosixPath('/content/fashion-dataset')"
            ]
          },
          "metadata": {
            "tags": []
          },
          "execution_count": 11
        }
      ]
    },
    {
      "cell_type": "code",
      "metadata": {
        "colab": {
          "base_uri": "https://localhost:8080/",
          "height": 206
        },
        "id": "-7NV0QHR5L5n",
        "outputId": "20919232-131e-4cc6-f1c9-26da2f726bc3"
      },
      "source": [
        "train_data, valid_data = train_test_split(styles_df)\n",
        "train_data.head()"
      ],
      "execution_count": 12,
      "outputs": [
        {
          "output_type": "execute_result",
          "data": {
            "text/html": [
              "<div>\n",
              "<style scoped>\n",
              "    .dataframe tbody tr th:only-of-type {\n",
              "        vertical-align: middle;\n",
              "    }\n",
              "\n",
              "    .dataframe tbody tr th {\n",
              "        vertical-align: top;\n",
              "    }\n",
              "\n",
              "    .dataframe thead th {\n",
              "        text-align: right;\n",
              "    }\n",
              "</style>\n",
              "<table border=\"1\" class=\"dataframe\">\n",
              "  <thead>\n",
              "    <tr style=\"text-align: right;\">\n",
              "      <th></th>\n",
              "      <th>id</th>\n",
              "      <th>gender</th>\n",
              "      <th>masterCategory</th>\n",
              "      <th>subCategory</th>\n",
              "      <th>articleType</th>\n",
              "      <th>baseColour</th>\n",
              "      <th>season</th>\n",
              "      <th>year</th>\n",
              "      <th>usage</th>\n",
              "      <th>productDisplayName</th>\n",
              "    </tr>\n",
              "  </thead>\n",
              "  <tbody>\n",
              "    <tr>\n",
              "      <th>9755</th>\n",
              "      <td>28149</td>\n",
              "      <td>Men</td>\n",
              "      <td>Apparel</td>\n",
              "      <td>Innerwear</td>\n",
              "      <td>Innerwear Vests</td>\n",
              "      <td>Grey Melange</td>\n",
              "      <td>Summer</td>\n",
              "      <td>2016.0</td>\n",
              "      <td>Casual</td>\n",
              "      <td>Jockey SPORT Men Grey Melange Innerwear Vest 9924</td>\n",
              "    </tr>\n",
              "    <tr>\n",
              "      <th>29097</th>\n",
              "      <td>17930</td>\n",
              "      <td>Women</td>\n",
              "      <td>Apparel</td>\n",
              "      <td>Bottomwear</td>\n",
              "      <td>Track Pants</td>\n",
              "      <td>Black</td>\n",
              "      <td>Fall</td>\n",
              "      <td>2011.0</td>\n",
              "      <td>Casual</td>\n",
              "      <td>Nike Women Casual Black Track Pant</td>\n",
              "    </tr>\n",
              "    <tr>\n",
              "      <th>10315</th>\n",
              "      <td>38317</td>\n",
              "      <td>Men</td>\n",
              "      <td>Accessories</td>\n",
              "      <td>Wallets</td>\n",
              "      <td>Wallets</td>\n",
              "      <td>Black</td>\n",
              "      <td>Summer</td>\n",
              "      <td>2012.0</td>\n",
              "      <td>Casual</td>\n",
              "      <td>Puma Men Black Big Cat Wallet</td>\n",
              "    </tr>\n",
              "    <tr>\n",
              "      <th>23729</th>\n",
              "      <td>18465</td>\n",
              "      <td>Women</td>\n",
              "      <td>Personal Care</td>\n",
              "      <td>Fragrance</td>\n",
              "      <td>Perfume and Body Mist</td>\n",
              "      <td>White</td>\n",
              "      <td>Spring</td>\n",
              "      <td>2017.0</td>\n",
              "      <td>Casual</td>\n",
              "      <td>Reebok Reefresh Women Perfumes</td>\n",
              "    </tr>\n",
              "    <tr>\n",
              "      <th>29956</th>\n",
              "      <td>8662</td>\n",
              "      <td>Men</td>\n",
              "      <td>Accessories</td>\n",
              "      <td>Eyewear</td>\n",
              "      <td>Sunglasses</td>\n",
              "      <td>Green</td>\n",
              "      <td>Winter</td>\n",
              "      <td>2016.0</td>\n",
              "      <td>Casual</td>\n",
              "      <td>Fastrack Men Bikers Green Sunglasses</td>\n",
              "    </tr>\n",
              "  </tbody>\n",
              "</table>\n",
              "</div>"
            ],
            "text/plain": [
              "          id gender  ...   usage                                 productDisplayName\n",
              "9755   28149    Men  ...  Casual  Jockey SPORT Men Grey Melange Innerwear Vest 9924\n",
              "29097  17930  Women  ...  Casual                 Nike Women Casual Black Track Pant\n",
              "10315  38317    Men  ...  Casual                      Puma Men Black Big Cat Wallet\n",
              "23729  18465  Women  ...  Casual                     Reebok Reefresh Women Perfumes\n",
              "29956   8662    Men  ...  Casual               Fastrack Men Bikers Green Sunglasses\n",
              "\n",
              "[5 rows x 10 columns]"
            ]
          },
          "metadata": {
            "tags": []
          },
          "execution_count": 12
        }
      ]
    },
    {
      "cell_type": "code",
      "metadata": {
        "colab": {
          "base_uri": "https://localhost:8080/",
          "height": 316
        },
        "id": "xd5I3BZB6IG_",
        "outputId": "256bca96-77ec-4113-d894-591956442d82"
      },
      "source": [
        "train_data['label'] = train_data.masterCategory + \" \" + train_data.subCategory\n",
        "train_data.head()"
      ],
      "execution_count": 13,
      "outputs": [
        {
          "output_type": "stream",
          "text": [
            "/usr/local/lib/python3.7/dist-packages/ipykernel_launcher.py:1: SettingWithCopyWarning: \n",
            "A value is trying to be set on a copy of a slice from a DataFrame.\n",
            "Try using .loc[row_indexer,col_indexer] = value instead\n",
            "\n",
            "See the caveats in the documentation: https://pandas.pydata.org/pandas-docs/stable/user_guide/indexing.html#returning-a-view-versus-a-copy\n",
            "  \"\"\"Entry point for launching an IPython kernel.\n"
          ],
          "name": "stderr"
        },
        {
          "output_type": "execute_result",
          "data": {
            "text/html": [
              "<div>\n",
              "<style scoped>\n",
              "    .dataframe tbody tr th:only-of-type {\n",
              "        vertical-align: middle;\n",
              "    }\n",
              "\n",
              "    .dataframe tbody tr th {\n",
              "        vertical-align: top;\n",
              "    }\n",
              "\n",
              "    .dataframe thead th {\n",
              "        text-align: right;\n",
              "    }\n",
              "</style>\n",
              "<table border=\"1\" class=\"dataframe\">\n",
              "  <thead>\n",
              "    <tr style=\"text-align: right;\">\n",
              "      <th></th>\n",
              "      <th>id</th>\n",
              "      <th>gender</th>\n",
              "      <th>masterCategory</th>\n",
              "      <th>subCategory</th>\n",
              "      <th>articleType</th>\n",
              "      <th>baseColour</th>\n",
              "      <th>season</th>\n",
              "      <th>year</th>\n",
              "      <th>usage</th>\n",
              "      <th>productDisplayName</th>\n",
              "      <th>label</th>\n",
              "    </tr>\n",
              "  </thead>\n",
              "  <tbody>\n",
              "    <tr>\n",
              "      <th>9755</th>\n",
              "      <td>28149</td>\n",
              "      <td>Men</td>\n",
              "      <td>Apparel</td>\n",
              "      <td>Innerwear</td>\n",
              "      <td>Innerwear Vests</td>\n",
              "      <td>Grey Melange</td>\n",
              "      <td>Summer</td>\n",
              "      <td>2016.0</td>\n",
              "      <td>Casual</td>\n",
              "      <td>Jockey SPORT Men Grey Melange Innerwear Vest 9924</td>\n",
              "      <td>Apparel Innerwear</td>\n",
              "    </tr>\n",
              "    <tr>\n",
              "      <th>29097</th>\n",
              "      <td>17930</td>\n",
              "      <td>Women</td>\n",
              "      <td>Apparel</td>\n",
              "      <td>Bottomwear</td>\n",
              "      <td>Track Pants</td>\n",
              "      <td>Black</td>\n",
              "      <td>Fall</td>\n",
              "      <td>2011.0</td>\n",
              "      <td>Casual</td>\n",
              "      <td>Nike Women Casual Black Track Pant</td>\n",
              "      <td>Apparel Bottomwear</td>\n",
              "    </tr>\n",
              "    <tr>\n",
              "      <th>10315</th>\n",
              "      <td>38317</td>\n",
              "      <td>Men</td>\n",
              "      <td>Accessories</td>\n",
              "      <td>Wallets</td>\n",
              "      <td>Wallets</td>\n",
              "      <td>Black</td>\n",
              "      <td>Summer</td>\n",
              "      <td>2012.0</td>\n",
              "      <td>Casual</td>\n",
              "      <td>Puma Men Black Big Cat Wallet</td>\n",
              "      <td>Accessories Wallets</td>\n",
              "    </tr>\n",
              "    <tr>\n",
              "      <th>23729</th>\n",
              "      <td>18465</td>\n",
              "      <td>Women</td>\n",
              "      <td>Personal Care</td>\n",
              "      <td>Fragrance</td>\n",
              "      <td>Perfume and Body Mist</td>\n",
              "      <td>White</td>\n",
              "      <td>Spring</td>\n",
              "      <td>2017.0</td>\n",
              "      <td>Casual</td>\n",
              "      <td>Reebok Reefresh Women Perfumes</td>\n",
              "      <td>Personal Care Fragrance</td>\n",
              "    </tr>\n",
              "    <tr>\n",
              "      <th>29956</th>\n",
              "      <td>8662</td>\n",
              "      <td>Men</td>\n",
              "      <td>Accessories</td>\n",
              "      <td>Eyewear</td>\n",
              "      <td>Sunglasses</td>\n",
              "      <td>Green</td>\n",
              "      <td>Winter</td>\n",
              "      <td>2016.0</td>\n",
              "      <td>Casual</td>\n",
              "      <td>Fastrack Men Bikers Green Sunglasses</td>\n",
              "      <td>Accessories Eyewear</td>\n",
              "    </tr>\n",
              "  </tbody>\n",
              "</table>\n",
              "</div>"
            ],
            "text/plain": [
              "          id  ...                    label\n",
              "9755   28149  ...        Apparel Innerwear\n",
              "29097  17930  ...       Apparel Bottomwear\n",
              "10315  38317  ...      Accessories Wallets\n",
              "23729  18465  ...  Personal Care Fragrance\n",
              "29956   8662  ...      Accessories Eyewear\n",
              "\n",
              "[5 rows x 11 columns]"
            ]
          },
          "metadata": {
            "tags": []
          },
          "execution_count": 13
        }
      ]
    },
    {
      "cell_type": "code",
      "metadata": {
        "colab": {
          "base_uri": "https://localhost:8080/"
        },
        "id": "poQOlEEK6hwF",
        "outputId": "8d02e352-ab09-4423-bab6-9a9adfb25104"
      },
      "source": [
        "# Take sample of 3000 images\n",
        "\n",
        "np.random.seed(42)\n",
        "src = (ImageList.from_df(df=train_data.sample(3000), path='/content/fashion-dataset/images', cols='id', suffix=\".jpg\")\n",
        "    .split_by_rand_pct(0.2)\n",
        "    .label_from_df(label_delim=\" \", cols='label'))"
      ],
      "execution_count": 14,
      "outputs": [
        {
          "output_type": "stream",
          "text": [
            "/usr/local/lib/python3.7/dist-packages/fastai/core.py:302: VisibleDeprecationWarning: Creating an ndarray from ragged nested sequences (which is a list-or-tuple of lists-or-tuples-or ndarrays with different lengths or shapes) is deprecated. If you meant to do this, you must specify 'dtype=object' when creating the ndarray\n",
            "  return np.array(a, dtype=dtype, **kwargs)\n"
          ],
          "name": "stderr"
        }
      ]
    },
    {
      "cell_type": "code",
      "metadata": {
        "id": "2AjhnPaI5Jnh"
      },
      "source": [
        "data = (src.transform(tfms, size=128)\n",
        "        .databunch().normalize(imagenet_stats))"
      ],
      "execution_count": 15,
      "outputs": []
    },
    {
      "cell_type": "code",
      "metadata": {
        "colab": {
          "base_uri": "https://localhost:8080/",
          "height": 657
        },
        "id": "PCkCkWPs7jni",
        "outputId": "3906c138-4054-4eca-8c79-c0ee3a63bbce"
      },
      "source": [
        "data.show_batch(rows=3, figsize=(12,9))"
      ],
      "execution_count": 16,
      "outputs": [
        {
          "output_type": "display_data",
          "data": {
            "image/png": "[encoded data removed]",
            "text/plain": [
              "<Figure size 864x648 with 9 Axes>"
            ]
          },
          "metadata": {
            "tags": [],
            "needs_background": "light"
          }
        }
      ]
    },
    {
      "cell_type": "code",
      "metadata": {
        "id": "8l_8SLBE7uEp"
      },
      "source": [
        "arch = models.resnet50"
      ],
      "execution_count": 17,
      "outputs": []
    },
    {
      "cell_type": "code",
      "metadata": {
        "colab": {
          "base_uri": "https://localhost:8080/",
          "height": 86,
          "referenced_widgets": [
            "bcd9fed1976e4299a756e1e058dff3ce",
            "47a1370bfc2540089fa31e03ee3f4f7c",
            "8c783a4e93c6418386ccf7f99d3a4dc8",
            "17fdde347241432aab57e24d84dde58d",
            "e655e2869cf04d1d82fada657a9fb9e7",
            "137a971fe4c94492b7e23dc9d8071739",
            "3428c67ab4544896a2a080e1e67ad728",
            "7895a17183db4d2eab4362cfdc4cee6f"
          ]
        },
        "id": "sRmDnI6v9FUz",
        "outputId": "1dc0bf95-d581-457d-cff6-3d54b19df991"
      },
      "source": [
        "acc_02 = partial(accuracy_thresh, thresh=0.2)\n",
        "f_score = partial(fbeta, thresh=0.2)\n",
        "learn = cnn_learner(data, arch, metrics=[acc_02, f_score])"
      ],
      "execution_count": 18,
      "outputs": [
        {
          "output_type": "stream",
          "text": [
            "Downloading: \"https://download.pytorch.org/models/resnet50-19c8e357.pth\" to /root/.cache/torch/hub/checkpoints/resnet50-19c8e357.pth\n"
          ],
          "name": "stderr"
        },
        {
          "output_type": "display_data",
          "data": {
            "application/vnd.jupyter.widget-view+json": {
              "model_id": "bcd9fed1976e4299a756e1e058dff3ce",
              "version_minor": 0,
              "version_major": 2
            },
            "text/plain": [
              "HBox(children=(FloatProgress(value=0.0, max=102502400.0), HTML(value='')))"
            ]
          },
          "metadata": {
            "tags": []
          }
        },
        {
          "output_type": "stream",
          "text": [
            "\n"
          ],
          "name": "stdout"
        }
      ]
    },
    {
      "cell_type": "code",
      "metadata": {
        "colab": {
          "base_uri": "https://localhost:8080/",
          "height": 175
        },
        "id": "qJb7mSNb9Lyy",
        "outputId": "41cf05a6-4a9b-44b1-89a6-04e304a9ac1c"
      },
      "source": [
        "learn.lr_find()"
      ],
      "execution_count": null,
      "outputs": [
        {
          "output_type": "display_data",
          "data": {
            "text/html": [
              "\n",
              "    <div>\n",
              "        <style>\n",
              "            /* Turns off some styling */\n",
              "            progress {\n",
              "                /* gets rid of default border in Firefox and Opera. */\n",
              "                border: none;\n",
              "                /* Needs to be in here for Safari polyfill so background images work as expected. */\n",
              "                background-size: auto;\n",
              "            }\n",
              "            .progress-bar-interrupted, .progress-bar-interrupted::-webkit-progress-bar {\n",
              "                background: #F44336;\n",
              "            }\n",
              "        </style>\n",
              "      <progress value='2' class='' max='3' style='width:300px; height:20px; vertical-align: middle;'></progress>\n",
              "      66.67% [2/3 05:00<02:30]\n",
              "    </div>\n",
              "    \n",
              "<table border=\"1\" class=\"dataframe\">\n",
              "  <thead>\n",
              "    <tr style=\"text-align: left;\">\n",
              "      <th>epoch</th>\n",
              "      <th>train_loss</th>\n",
              "      <th>valid_loss</th>\n",
              "      <th>accuracy_thresh</th>\n",
              "      <th>fbeta</th>\n",
              "      <th>time</th>\n",
              "    </tr>\n",
              "  </thead>\n",
              "  <tbody>\n",
              "    <tr>\n",
              "      <td>0</td>\n",
              "      <td>1.060609</td>\n",
              "      <td>#na#</td>\n",
              "      <td>02:31</td>\n",
              "    </tr>\n",
              "    <tr>\n",
              "      <td>1</td>\n",
              "      <td>0.802639</td>\n",
              "      <td>#na#</td>\n",
              "      <td>02:29</td>\n",
              "    </tr>\n",
              "  </tbody>\n",
              "</table><p>\n",
              "\n",
              "    <div>\n",
              "        <style>\n",
              "            /* Turns off some styling */\n",
              "            progress {\n",
              "                /* gets rid of default border in Firefox and Opera. */\n",
              "                border: none;\n",
              "                /* Needs to be in here for Safari polyfill so background images work as expected. */\n",
              "                background-size: auto;\n",
              "            }\n",
              "            .progress-bar-interrupted, .progress-bar-interrupted::-webkit-progress-bar {\n",
              "                background: #F44336;\n",
              "            }\n",
              "        </style>\n",
              "      <progress value='20' class='' max='37' style='width:300px; height:20px; vertical-align: middle;'></progress>\n",
              "      54.05% [20/37 01:20<01:08 2.0106]\n",
              "    </div>\n",
              "    "
            ],
            "text/plain": [
              "<IPython.core.display.HTML object>"
            ]
          },
          "metadata": {
            "tags": []
          }
        },
        {
          "output_type": "stream",
          "text": [
            "LR Finder is complete, type {learner_name}.recorder.plot() to see the graph.\n"
          ],
          "name": "stdout"
        }
      ]
    },
    {
      "cell_type": "code",
      "metadata": {
        "colab": {
          "base_uri": "https://localhost:8080/",
          "height": 279
        },
        "id": "tXKdDjtj9Ptb",
        "outputId": "a149b835-c3d9-402f-e068-10ea8dfc7417"
      },
      "source": [
        "learn.recorder.plot()"
      ],
      "execution_count": null,
      "outputs": [
        {
          "output_type": "display_data",
          "data": {
            "image/png": "[encoded data removed]",
            "text/plain": [
              "<Figure size 432x288 with 1 Axes>"
            ]
          },
          "metadata": {
            "tags": [],
            "needs_background": "light"
          }
        }
      ]
    },
    {
      "cell_type": "code",
      "metadata": {
        "id": "5QULN-Kl9_CS"
      },
      "source": [
        "lr = 0.01"
      ],
      "execution_count": 19,
      "outputs": []
    },
    {
      "cell_type": "code",
      "metadata": {
        "colab": {
          "base_uri": "https://localhost:8080/",
          "height": 143
        },
        "id": "ZuXJWnoM-OmD",
        "outputId": "383d7368-279e-4b1e-e5f3-f885eb991176"
      },
      "source": [
        "learn.fit_one_cycle(3, slice(lr))"
      ],
      "execution_count": 20,
      "outputs": [
        {
          "output_type": "display_data",
          "data": {
            "text/html": [
              "<table border=\"1\" class=\"dataframe\">\n",
              "  <thead>\n",
              "    <tr style=\"text-align: left;\">\n",
              "      <th>epoch</th>\n",
              "      <th>train_loss</th>\n",
              "      <th>valid_loss</th>\n",
              "      <th>accuracy_thresh</th>\n",
              "      <th>fbeta</th>\n",
              "      <th>time</th>\n",
              "    </tr>\n",
              "  </thead>\n",
              "  <tbody>\n",
              "    <tr>\n",
              "      <td>0</td>\n",
              "      <td>0.593886</td>\n",
              "      <td>0.064236</td>\n",
              "      <td>0.977159</td>\n",
              "      <td>0.861310</td>\n",
              "      <td>03:07</td>\n",
              "    </tr>\n",
              "    <tr>\n",
              "      <td>1</td>\n",
              "      <td>0.222685</td>\n",
              "      <td>0.028106</td>\n",
              "      <td>0.989886</td>\n",
              "      <td>0.914862</td>\n",
              "      <td>03:04</td>\n",
              "    </tr>\n",
              "    <tr>\n",
              "      <td>2</td>\n",
              "      <td>0.110901</td>\n",
              "      <td>0.026504</td>\n",
              "      <td>0.990909</td>\n",
              "      <td>0.920107</td>\n",
              "      <td>03:05</td>\n",
              "    </tr>\n",
              "  </tbody>\n",
              "</table>"
            ],
            "text/plain": [
              "<IPython.core.display.HTML object>"
            ]
          },
          "metadata": {
            "tags": []
          }
        }
      ]
    },
    {
      "cell_type": "code",
      "metadata": {
        "id": "1rAkeEb--SQb"
      },
      "source": [
        "learn.save('/content/stage-1-rn50')"
      ],
      "execution_count": 21,
      "outputs": []
    },
    {
      "cell_type": "code",
      "metadata": {
        "id": "3si55kZsvbVc"
      },
      "source": [
        "learn.unfreeze()"
      ],
      "execution_count": 24,
      "outputs": []
    },
    {
      "cell_type": "code",
      "metadata": {
        "id": "LSqyN4qzvjuU",
        "colab": {
          "base_uri": "https://localhost:8080/",
          "height": 437
        },
        "outputId": "2a29f52a-e276-4cc5-aef8-4705b682eda5"
      },
      "source": [
        "learn.lr_find()\n",
        "learn.recorder.plot()"
      ],
      "execution_count": null,
      "outputs": [
        {
          "output_type": "display_data",
          "data": {
            "text/html": [
              "\n",
              "    <div>\n",
              "        <style>\n",
              "            /* Turns off some styling */\n",
              "            progress {\n",
              "                /* gets rid of default border in Firefox and Opera. */\n",
              "                border: none;\n",
              "                /* Needs to be in here for Safari polyfill so background images work as expected. */\n",
              "                background-size: auto;\n",
              "            }\n",
              "            .progress-bar-interrupted, .progress-bar-interrupted::-webkit-progress-bar {\n",
              "                background: #F44336;\n",
              "            }\n",
              "        </style>\n",
              "      <progress value='2' class='' max='3' style='width:300px; height:20px; vertical-align: middle;'></progress>\n",
              "      66.67% [2/3 04:56<02:28]\n",
              "    </div>\n",
              "    \n",
              "<table border=\"1\" class=\"dataframe\">\n",
              "  <thead>\n",
              "    <tr style=\"text-align: left;\">\n",
              "      <th>epoch</th>\n",
              "      <th>train_loss</th>\n",
              "      <th>valid_loss</th>\n",
              "      <th>accuracy_thresh</th>\n",
              "      <th>fbeta</th>\n",
              "      <th>time</th>\n",
              "    </tr>\n",
              "  </thead>\n",
              "  <tbody>\n",
              "    <tr>\n",
              "      <td>0</td>\n",
              "      <td>0.030338</td>\n",
              "      <td>#na#</td>\n",
              "      <td>02:27</td>\n",
              "    </tr>\n",
              "    <tr>\n",
              "      <td>1</td>\n",
              "      <td>0.072472</td>\n",
              "      <td>#na#</td>\n",
              "      <td>02:28</td>\n",
              "    </tr>\n",
              "  </tbody>\n",
              "</table><p>\n",
              "\n",
              "    <div>\n",
              "        <style>\n",
              "            /* Turns off some styling */\n",
              "            progress {\n",
              "                /* gets rid of default border in Firefox and Opera. */\n",
              "                border: none;\n",
              "                /* Needs to be in here for Safari polyfill so background images work as expected. */\n",
              "                background-size: auto;\n",
              "            }\n",
              "            .progress-bar-interrupted, .progress-bar-interrupted::-webkit-progress-bar {\n",
              "                background: #F44336;\n",
              "            }\n",
              "        </style>\n",
              "      <progress value='8' class='' max='37' style='width:300px; height:20px; vertical-align: middle;'></progress>\n",
              "      21.62% [8/37 00:31<01:54 0.1075]\n",
              "    </div>\n",
              "    "
            ],
            "text/plain": [
              "<IPython.core.display.HTML object>"
            ]
          },
          "metadata": {
            "tags": []
          }
        },
        {
          "output_type": "stream",
          "text": [
            "LR Finder is complete, type {learner_name}.recorder.plot() to see the graph.\n"
          ],
          "name": "stdout"
        },
        {
          "output_type": "display_data",
          "data": {
            "image/png": "[encoded data removed]",
            "text/plain": [
              "<Figure size 432x288 with 1 Axes>"
            ]
          },
          "metadata": {
            "tags": [],
            "needs_background": "light"
          }
        }
      ]
    },
    {
      "cell_type": "code",
      "metadata": {
        "id": "AZbTF4xrvmHP",
        "colab": {
          "base_uri": "https://localhost:8080/",
          "height": 143
        },
        "outputId": "a9e39da4-b5e0-478f-eacc-23660f005e44"
      },
      "source": [
        "learn.fit_one_cycle(3, slice(1e-5, lr/5))"
      ],
      "execution_count": 25,
      "outputs": [
        {
          "output_type": "display_data",
          "data": {
            "text/html": [
              "<table border=\"1\" class=\"dataframe\">\n",
              "  <thead>\n",
              "    <tr style=\"text-align: left;\">\n",
              "      <th>epoch</th>\n",
              "      <th>train_loss</th>\n",
              "      <th>valid_loss</th>\n",
              "      <th>accuracy_thresh</th>\n",
              "      <th>fbeta</th>\n",
              "      <th>time</th>\n",
              "    </tr>\n",
              "  </thead>\n",
              "  <tbody>\n",
              "    <tr>\n",
              "      <td>0</td>\n",
              "      <td>0.029569</td>\n",
              "      <td>0.022962</td>\n",
              "      <td>0.992614</td>\n",
              "      <td>0.936783</td>\n",
              "      <td>03:04</td>\n",
              "    </tr>\n",
              "    <tr>\n",
              "      <td>1</td>\n",
              "      <td>0.023187</td>\n",
              "      <td>0.018930</td>\n",
              "      <td>0.994053</td>\n",
              "      <td>0.955647</td>\n",
              "      <td>03:04</td>\n",
              "    </tr>\n",
              "    <tr>\n",
              "      <td>2</td>\n",
              "      <td>0.017435</td>\n",
              "      <td>0.017669</td>\n",
              "      <td>0.994886</td>\n",
              "      <td>0.957659</td>\n",
              "      <td>03:04</td>\n",
              "    </tr>\n",
              "  </tbody>\n",
              "</table>"
            ],
            "text/plain": [
              "<IPython.core.display.HTML object>"
            ]
          },
          "metadata": {
            "tags": []
          }
        }
      ]
    },
    {
      "cell_type": "code",
      "metadata": {
        "id": "tZYmB3t7w_Zg"
      },
      "source": [
        "learn.save('/content/stage-2-rn50')"
      ],
      "execution_count": null,
      "outputs": []
    },
    {
      "cell_type": "code",
      "metadata": {
        "id": "67-Q6Z_qxOim",
        "colab": {
          "base_uri": "https://localhost:8080/"
        },
        "outputId": "10955ff9-bd45-4b97-a658-3c6cd48d29c9"
      },
      "source": [
        "data = (src.transform(tfms, size=256)\n",
        "        .databunch().normalize(imagenet_stats))\n",
        "\n",
        "learn.data = data\n",
        "data.train_ds[0][0].shape"
      ],
      "execution_count": 29,
      "outputs": [
        {
          "output_type": "execute_result",
          "data": {
            "text/plain": [
              "torch.Size([3, 256, 256])"
            ]
          },
          "metadata": {
            "tags": []
          },
          "execution_count": 29
        }
      ]
    },
    {
      "cell_type": "code",
      "metadata": {
        "id": "pGbbjO7TxSNI"
      },
      "source": [
        "learn.freeze()"
      ],
      "execution_count": 30,
      "outputs": []
    },
    {
      "cell_type": "code",
      "metadata": {
        "id": "z7z6GG8SX4QI",
        "colab": {
          "base_uri": "https://localhost:8080/",
          "height": 437
        },
        "outputId": "96edc10d-f8af-4e03-e6f0-2a120f8b6c18"
      },
      "source": [
        "learn.lr_find()\n",
        "learn.recorder.plot()"
      ],
      "execution_count": null,
      "outputs": [
        {
          "output_type": "display_data",
          "data": {
            "text/html": [
              "\n",
              "    <div>\n",
              "        <style>\n",
              "            /* Turns off some styling */\n",
              "            progress {\n",
              "                /* gets rid of default border in Firefox and Opera. */\n",
              "                border: none;\n",
              "                /* Needs to be in here for Safari polyfill so background images work as expected. */\n",
              "                background-size: auto;\n",
              "            }\n",
              "            .progress-bar-interrupted, .progress-bar-interrupted::-webkit-progress-bar {\n",
              "                background: #F44336;\n",
              "            }\n",
              "        </style>\n",
              "      <progress value='2' class='' max='3' style='width:300px; height:20px; vertical-align: middle;'></progress>\n",
              "      66.67% [2/3 06:10<03:05]\n",
              "    </div>\n",
              "    \n",
              "<table border=\"1\" class=\"dataframe\">\n",
              "  <thead>\n",
              "    <tr style=\"text-align: left;\">\n",
              "      <th>epoch</th>\n",
              "      <th>train_loss</th>\n",
              "      <th>valid_loss</th>\n",
              "      <th>accuracy_thresh</th>\n",
              "      <th>fbeta</th>\n",
              "      <th>time</th>\n",
              "    </tr>\n",
              "  </thead>\n",
              "  <tbody>\n",
              "    <tr>\n",
              "      <td>0</td>\n",
              "      <td>0.017844</td>\n",
              "      <td>#na#</td>\n",
              "      <td>03:05</td>\n",
              "    </tr>\n",
              "    <tr>\n",
              "      <td>1</td>\n",
              "      <td>0.023491</td>\n",
              "      <td>#na#</td>\n",
              "      <td>03:05</td>\n",
              "    </tr>\n",
              "  </tbody>\n",
              "</table><p>\n",
              "\n",
              "    <div>\n",
              "        <style>\n",
              "            /* Turns off some styling */\n",
              "            progress {\n",
              "                /* gets rid of default border in Firefox and Opera. */\n",
              "                border: none;\n",
              "                /* Needs to be in here for Safari polyfill so background images work as expected. */\n",
              "                background-size: auto;\n",
              "            }\n",
              "            .progress-bar-interrupted, .progress-bar-interrupted::-webkit-progress-bar {\n",
              "                background: #F44336;\n",
              "            }\n",
              "        </style>\n",
              "      <progress value='1' class='' max='37' style='width:300px; height:20px; vertical-align: middle;'></progress>\n",
              "      2.70% [1/37 00:10<06:17 0.0263]\n",
              "    </div>\n",
              "    "
            ],
            "text/plain": [
              "<IPython.core.display.HTML object>"
            ]
          },
          "metadata": {
            "tags": []
          }
        },
        {
          "output_type": "stream",
          "text": [
            "LR Finder is complete, type {learner_name}.recorder.plot() to see the graph.\n"
          ],
          "name": "stdout"
        },
        {
          "output_type": "display_data",
          "data": {
            "image/png": "[encoded data removed]",
            "text/plain": [
              "<Figure size 432x288 with 1 Axes>"
            ]
          },
          "metadata": {
            "tags": [],
            "needs_background": "light"
          }
        }
      ]
    },
    {
      "cell_type": "code",
      "metadata": {
        "id": "V-zTG4tdX6Rc"
      },
      "source": [
        "lr=1e-2/2"
      ],
      "execution_count": 31,
      "outputs": []
    },
    {
      "cell_type": "code",
      "metadata": {
        "id": "u2Nfnl4TX9G5",
        "colab": {
          "base_uri": "https://localhost:8080/",
          "height": 143
        },
        "outputId": "de7c49f5-06b0-4c8b-e6ec-fd2dbc33b701"
      },
      "source": [
        "learn.fit_one_cycle(3, slice(lr))"
      ],
      "execution_count": 32,
      "outputs": [
        {
          "output_type": "display_data",
          "data": {
            "text/html": [
              "<table border=\"1\" class=\"dataframe\">\n",
              "  <thead>\n",
              "    <tr style=\"text-align: left;\">\n",
              "      <th>epoch</th>\n",
              "      <th>train_loss</th>\n",
              "      <th>valid_loss</th>\n",
              "      <th>accuracy_thresh</th>\n",
              "      <th>fbeta</th>\n",
              "      <th>time</th>\n",
              "    </tr>\n",
              "  </thead>\n",
              "  <tbody>\n",
              "    <tr>\n",
              "      <td>0</td>\n",
              "      <td>0.021078</td>\n",
              "      <td>0.020318</td>\n",
              "      <td>0.991629</td>\n",
              "      <td>0.950126</td>\n",
              "      <td>03:41</td>\n",
              "    </tr>\n",
              "    <tr>\n",
              "      <td>1</td>\n",
              "      <td>0.017526</td>\n",
              "      <td>0.017341</td>\n",
              "      <td>0.994280</td>\n",
              "      <td>0.960274</td>\n",
              "      <td>03:41</td>\n",
              "    </tr>\n",
              "    <tr>\n",
              "      <td>2</td>\n",
              "      <td>0.013856</td>\n",
              "      <td>0.016107</td>\n",
              "      <td>0.995454</td>\n",
              "      <td>0.963033</td>\n",
              "      <td>03:41</td>\n",
              "    </tr>\n",
              "  </tbody>\n",
              "</table>"
            ],
            "text/plain": [
              "<IPython.core.display.HTML object>"
            ]
          },
          "metadata": {
            "tags": []
          }
        }
      ]
    },
    {
      "cell_type": "code",
      "metadata": {
        "id": "ec50NruXYA5U",
        "colab": {
          "base_uri": "https://localhost:8080/",
          "height": 279
        },
        "outputId": "fa0c57a4-f8fd-40ea-9721-451bacdb061c"
      },
      "source": [
        "learn.recorder.plot_losses()"
      ],
      "execution_count": 33,
      "outputs": [
        {
          "output_type": "display_data",
          "data": {
            "image/png": "[encoded data removed]",
            "text/plain": [
              "<Figure size 432x288 with 1 Axes>"
            ]
          },
          "metadata": {
            "tags": [],
            "needs_background": "light"
          }
        }
      ]
    },
    {
      "cell_type": "code",
      "metadata": {
        "id": "de2sfsPuYBrL"
      },
      "source": [
        "learn.save('/content/stage-2-256-rn50')"
      ],
      "execution_count": null,
      "outputs": []
    },
    {
      "cell_type": "code",
      "metadata": {
        "id": "hdpSTWPHecLp"
      },
      "source": [
        "learn.export(\"/content/export.pkl\")"
      ],
      "execution_count": 36,
      "outputs": []
    },
    {
      "cell_type": "markdown",
      "metadata": {
        "id": "YOpNICnKeyQd"
      },
      "source": [
        "### Test dataset"
      ]
    },
    {
      "cell_type": "code",
      "metadata": {
        "id": "Kc1T7dLHfGf6",
        "colab": {
          "base_uri": "https://localhost:8080/"
        },
        "outputId": "b2e60d63-0747-41b2-d4d1-fc9ffd7e9d77"
      },
      "source": [
        "valid_data['label'] = valid_data.masterCategory + \" \" + valid_data.subCategory"
      ],
      "execution_count": 37,
      "outputs": [
        {
          "output_type": "stream",
          "text": [
            "/usr/local/lib/python3.7/dist-packages/ipykernel_launcher.py:1: SettingWithCopyWarning: \n",
            "A value is trying to be set on a copy of a slice from a DataFrame.\n",
            "Try using .loc[row_indexer,col_indexer] = value instead\n",
            "\n",
            "See the caveats in the documentation: https://pandas.pydata.org/pandas-docs/stable/user_guide/indexing.html#returning-a-view-versus-a-copy\n",
            "  \"\"\"Entry point for launching an IPython kernel.\n"
          ],
          "name": "stderr"
        }
      ]
    },
    {
      "cell_type": "code",
      "metadata": {
        "id": "Czbzq4iXenoT"
      },
      "source": [
        "test = ImageList.from_df(df=valid_data.sample(1000), path='/content/fashion-dataset/images', cols='id', suffix=\".jpg\")"
      ],
      "execution_count": 38,
      "outputs": []
    },
    {
      "cell_type": "code",
      "metadata": {
        "id": "7oPL7qOtfstq",
        "colab": {
          "base_uri": "https://localhost:8080/",
          "height": 17
        },
        "outputId": "4edc62e1-7374-47f3-a8c3-6a3ec6e60995"
      },
      "source": [
        "learn = load_learner(path, test=test)\n",
        "preds, _ = learn.get_preds(ds_type=DatasetType.Test)"
      ],
      "execution_count": 40,
      "outputs": [
        {
          "output_type": "display_data",
          "data": {
            "text/html": [
              ""
            ],
            "text/plain": [
              "<IPython.core.display.HTML object>"
            ]
          },
          "metadata": {
            "tags": []
          }
        }
      ]
    },
    {
      "cell_type": "code",
      "metadata": {
        "id": "3sYli84BgosX"
      },
      "source": [
        "thresh = 0.2\n",
        "labelled_preds = [' '.join([learn.data.classes[i] for i,p in enumerate(pred) if p > thresh]) for pred in preds]"
      ],
      "execution_count": 41,
      "outputs": []
    },
    {
      "cell_type": "code",
      "metadata": {
        "id": "ZtshHlwKgrW1",
        "colab": {
          "base_uri": "https://localhost:8080/"
        },
        "outputId": "8206ea03-328e-45a0-d160-d0e78e171c73"
      },
      "source": [
        "labelled_preds[:5]"
      ],
      "execution_count": 42,
      "outputs": [
        {
          "output_type": "execute_result",
          "data": {
            "text/plain": [
              "['Apparel Topwear',\n",
              " 'Apparel Innerwear',\n",
              " 'Apparel Bottomwear',\n",
              " 'Apparel Saree',\n",
              " 'Footwear Shoes']"
            ]
          },
          "metadata": {
            "tags": []
          },
          "execution_count": 42
        }
      ]
    },
    {
      "cell_type": "code",
      "metadata": {
        "id": "sOTrj4LYgtkn"
      },
      "source": [
        "fnames = [int(re.findall(\"\\d+\", f)[0]) for f in learn.data.test_ds.items]"
      ],
      "execution_count": 43,
      "outputs": []
    },
    {
      "cell_type": "code",
      "metadata": {
        "id": "rxfUSfs1g1tC"
      },
      "source": [
        "df = pd.DataFrame({'image_name':fnames, 'tags':labelled_preds}, columns=['image_name', 'tags'])"
      ],
      "execution_count": 44,
      "outputs": []
    },
    {
      "cell_type": "code",
      "metadata": {
        "id": "zrItobXEg3Xd",
        "colab": {
          "base_uri": "https://localhost:8080/",
          "height": 363
        },
        "outputId": "28b984a6-812f-4da8-a399-749091f96760"
      },
      "source": [
        "df.head(10)"
      ],
      "execution_count": 45,
      "outputs": [
        {
          "output_type": "execute_result",
          "data": {
            "text/html": [
              "<div>\n",
              "<style scoped>\n",
              "    .dataframe tbody tr th:only-of-type {\n",
              "        vertical-align: middle;\n",
              "    }\n",
              "\n",
              "    .dataframe tbody tr th {\n",
              "        vertical-align: top;\n",
              "    }\n",
              "\n",
              "    .dataframe thead th {\n",
              "        text-align: right;\n",
              "    }\n",
              "</style>\n",
              "<table border=\"1\" class=\"dataframe\">\n",
              "  <thead>\n",
              "    <tr style=\"text-align: right;\">\n",
              "      <th></th>\n",
              "      <th>image_name</th>\n",
              "      <th>tags</th>\n",
              "    </tr>\n",
              "  </thead>\n",
              "  <tbody>\n",
              "    <tr>\n",
              "      <th>0</th>\n",
              "      <td>28848</td>\n",
              "      <td>Apparel Topwear</td>\n",
              "    </tr>\n",
              "    <tr>\n",
              "      <th>1</th>\n",
              "      <td>51776</td>\n",
              "      <td>Apparel Innerwear</td>\n",
              "    </tr>\n",
              "    <tr>\n",
              "      <th>2</th>\n",
              "      <td>24656</td>\n",
              "      <td>Apparel Bottomwear</td>\n",
              "    </tr>\n",
              "    <tr>\n",
              "      <th>3</th>\n",
              "      <td>53008</td>\n",
              "      <td>Apparel Saree</td>\n",
              "    </tr>\n",
              "    <tr>\n",
              "      <th>4</th>\n",
              "      <td>44415</td>\n",
              "      <td>Footwear Shoes</td>\n",
              "    </tr>\n",
              "    <tr>\n",
              "      <th>5</th>\n",
              "      <td>20844</td>\n",
              "      <td>Accessories Mufflers Scarves</td>\n",
              "    </tr>\n",
              "    <tr>\n",
              "      <th>6</th>\n",
              "      <td>18394</td>\n",
              "      <td>Apparel Innerwear</td>\n",
              "    </tr>\n",
              "    <tr>\n",
              "      <th>7</th>\n",
              "      <td>31112</td>\n",
              "      <td>Apparel Bottomwear</td>\n",
              "    </tr>\n",
              "    <tr>\n",
              "      <th>8</th>\n",
              "      <td>59178</td>\n",
              "      <td>Footwear Shoes</td>\n",
              "    </tr>\n",
              "    <tr>\n",
              "      <th>9</th>\n",
              "      <td>18954</td>\n",
              "      <td>Accessories Socks</td>\n",
              "    </tr>\n",
              "  </tbody>\n",
              "</table>\n",
              "</div>"
            ],
            "text/plain": [
              "   image_name                          tags\n",
              "0       28848               Apparel Topwear\n",
              "1       51776             Apparel Innerwear\n",
              "2       24656            Apparel Bottomwear\n",
              "3       53008                 Apparel Saree\n",
              "4       44415                Footwear Shoes\n",
              "5       20844  Accessories Mufflers Scarves\n",
              "6       18394             Apparel Innerwear\n",
              "7       31112            Apparel Bottomwear\n",
              "8       59178                Footwear Shoes\n",
              "9       18954             Accessories Socks"
            ]
          },
          "metadata": {
            "tags": []
          },
          "execution_count": 45
        }
      ]
    },
    {
      "cell_type": "code",
      "metadata": {
        "id": "uy7-_kAOhqtP",
        "colab": {
          "base_uri": "https://localhost:8080/",
          "height": 424
        },
        "outputId": "5c97bb58-b307-42b0-a6d9-83ac6b48f961"
      },
      "source": [
        "inspect_df = df.merge(valid_data[['id','label']], how='left', left_on='image_name', right_on='id')\n",
        "inspect_df[inspect_df.tags != inspect_df.label]"
      ],
      "execution_count": 46,
      "outputs": [
        {
          "output_type": "execute_result",
          "data": {
            "text/html": [
              "<div>\n",
              "<style scoped>\n",
              "    .dataframe tbody tr th:only-of-type {\n",
              "        vertical-align: middle;\n",
              "    }\n",
              "\n",
              "    .dataframe tbody tr th {\n",
              "        vertical-align: top;\n",
              "    }\n",
              "\n",
              "    .dataframe thead th {\n",
              "        text-align: right;\n",
              "    }\n",
              "</style>\n",
              "<table border=\"1\" class=\"dataframe\">\n",
              "  <thead>\n",
              "    <tr style=\"text-align: right;\">\n",
              "      <th></th>\n",
              "      <th>image_name</th>\n",
              "      <th>tags</th>\n",
              "      <th>id</th>\n",
              "      <th>label</th>\n",
              "    </tr>\n",
              "  </thead>\n",
              "  <tbody>\n",
              "    <tr>\n",
              "      <th>2</th>\n",
              "      <td>24656</td>\n",
              "      <td>Apparel Bottomwear</td>\n",
              "      <td>24656</td>\n",
              "      <td>Accessories Socks</td>\n",
              "    </tr>\n",
              "    <tr>\n",
              "      <th>5</th>\n",
              "      <td>20844</td>\n",
              "      <td>Accessories Mufflers Scarves</td>\n",
              "      <td>20844</td>\n",
              "      <td>Accessories Mufflers</td>\n",
              "    </tr>\n",
              "    <tr>\n",
              "      <th>11</th>\n",
              "      <td>35014</td>\n",
              "      <td>Apparel Topwear</td>\n",
              "      <td>35014</td>\n",
              "      <td>Accessories Stoles</td>\n",
              "    </tr>\n",
              "    <tr>\n",
              "      <th>20</th>\n",
              "      <td>51808</td>\n",
              "      <td>Apparel Topwear</td>\n",
              "      <td>51808</td>\n",
              "      <td>Apparel Loungewear and Nightwear</td>\n",
              "    </tr>\n",
              "    <tr>\n",
              "      <th>21</th>\n",
              "      <td>55395</td>\n",
              "      <td>Care Lips Personal</td>\n",
              "      <td>55395</td>\n",
              "      <td>Personal Care Eyes</td>\n",
              "    </tr>\n",
              "    <tr>\n",
              "      <th>...</th>\n",
              "      <td>...</td>\n",
              "      <td>...</td>\n",
              "      <td>...</td>\n",
              "      <td>...</td>\n",
              "    </tr>\n",
              "    <tr>\n",
              "      <th>978</th>\n",
              "      <td>42290</td>\n",
              "      <td>Accessories Apparel Bottomwear</td>\n",
              "      <td>42290</td>\n",
              "      <td>Apparel Bottomwear</td>\n",
              "    </tr>\n",
              "    <tr>\n",
              "      <th>982</th>\n",
              "      <td>57057</td>\n",
              "      <td>Apparel Dress Topwear</td>\n",
              "      <td>57057</td>\n",
              "      <td>Apparel Dress</td>\n",
              "    </tr>\n",
              "    <tr>\n",
              "      <th>993</th>\n",
              "      <td>41864</td>\n",
              "      <td>Footwear Shoes</td>\n",
              "      <td>41864</td>\n",
              "      <td>Footwear Sandal</td>\n",
              "    </tr>\n",
              "    <tr>\n",
              "      <th>996</th>\n",
              "      <td>44546</td>\n",
              "      <td>Footwear Sandal Shoes</td>\n",
              "      <td>44546</td>\n",
              "      <td>Footwear Sandal</td>\n",
              "    </tr>\n",
              "    <tr>\n",
              "      <th>997</th>\n",
              "      <td>52414</td>\n",
              "      <td>Apparel Topwear</td>\n",
              "      <td>52414</td>\n",
              "      <td>Apparel Loungewear and Nightwear</td>\n",
              "    </tr>\n",
              "  </tbody>\n",
              "</table>\n",
              "<p>162 rows × 4 columns</p>\n",
              "</div>"
            ],
            "text/plain": [
              "     image_name  ...                             label\n",
              "2         24656  ...                 Accessories Socks\n",
              "5         20844  ...              Accessories Mufflers\n",
              "11        35014  ...                Accessories Stoles\n",
              "20        51808  ...  Apparel Loungewear and Nightwear\n",
              "21        55395  ...                Personal Care Eyes\n",
              "..          ...  ...                               ...\n",
              "978       42290  ...                Apparel Bottomwear\n",
              "982       57057  ...                     Apparel Dress\n",
              "993       41864  ...                   Footwear Sandal\n",
              "996       44546  ...                   Footwear Sandal\n",
              "997       52414  ...  Apparel Loungewear and Nightwear\n",
              "\n",
              "[162 rows x 4 columns]"
            ]
          },
          "metadata": {
            "tags": []
          },
          "execution_count": 46
        }
      ]
    },
    {
      "cell_type": "code",
      "metadata": {
        "id": "njqrqce6g5fr",
        "colab": {
          "base_uri": "https://localhost:8080/",
          "height": 248
        },
        "outputId": "b630d3ab-9941-4e89-bf16-f7c4b177da93"
      },
      "source": [
        "plt.imshow(Image.open(f\"/content/fashion-dataset/images/{df.image_name.iloc[993]}.jpg\"))\n",
        "plt.axis('off');"
      ],
      "execution_count": 51,
      "outputs": [
        {
          "output_type": "display_data",
          "data": {
            "image/png": "[encoded data removed]",
            "text/plain": [
              "<Figure size 432x288 with 1 Axes>"
            ]
          },
          "metadata": {
            "tags": [],
            "needs_background": "light"
          }
        }
      ]
    },
    {
      "cell_type": "markdown",
      "metadata": {
        "id": "LHDg5G8LirKV"
      },
      "source": [
        "# PyTorch (only master Category)\n"
      ]
    },
    {
      "cell_type": "code",
      "metadata": {
        "id": "9bXig4GpjQtH",
        "colab": {
          "base_uri": "https://localhost:8080/"
        },
        "outputId": "9d182562-0788-416b-a243-91cbe1818af4"
      },
      "source": [
        "styles_df = pd.read_csv(STYLES_FILE_PATH, index_col=False, error_bad_lines=False)\n",
        "styles_df.masterCategory = styles_df.masterCategory.astype('category')\n",
        "styles_df = styles_df[styles_df.id.isin(images_list)]"
      ],
      "execution_count": 53,
      "outputs": [
        {
          "output_type": "stream",
          "text": [
            "b'Skipping line 6044: expected 10 fields, saw 11\\nSkipping line 6569: expected 10 fields, saw 11\\nSkipping line 7399: expected 10 fields, saw 11\\nSkipping line 7939: expected 10 fields, saw 11\\nSkipping line 9026: expected 10 fields, saw 11\\nSkipping line 10264: expected 10 fields, saw 11\\nSkipping line 10427: expected 10 fields, saw 11\\nSkipping line 10905: expected 10 fields, saw 11\\nSkipping line 11373: expected 10 fields, saw 11\\nSkipping line 11945: expected 10 fields, saw 11\\nSkipping line 14112: expected 10 fields, saw 11\\nSkipping line 14532: expected 10 fields, saw 11\\nSkipping line 15076: expected 10 fields, saw 12\\nSkipping line 29906: expected 10 fields, saw 11\\nSkipping line 31625: expected 10 fields, saw 11\\nSkipping line 33020: expected 10 fields, saw 11\\nSkipping line 35748: expected 10 fields, saw 11\\nSkipping line 35962: expected 10 fields, saw 11\\nSkipping line 37770: expected 10 fields, saw 11\\nSkipping line 38105: expected 10 fields, saw 11\\nSkipping line 38275: expected 10 fields, saw 11\\nSkipping line 38404: expected 10 fields, saw 12\\n'\n"
          ],
          "name": "stderr"
        }
      ]
    },
    {
      "cell_type": "code",
      "metadata": {
        "id": "Nm2zCIOdkH33",
        "colab": {
          "base_uri": "https://localhost:8080/"
        },
        "outputId": "8f529557-b484-4a80-9c34-3964c23d5a54"
      },
      "source": [
        "mapper = dict(zip(styles_df.masterCategory, styles_df.masterCategory.cat.codes))\n",
        "mapper"
      ],
      "execution_count": 54,
      "outputs": [
        {
          "output_type": "execute_result",
          "data": {
            "text/plain": [
              "{'Accessories': 0,\n",
              " 'Apparel': 1,\n",
              " 'Footwear': 2,\n",
              " 'Free Items': 3,\n",
              " 'Home': 4,\n",
              " 'Personal Care': 5,\n",
              " 'Sporting Goods': 6}"
            ]
          },
          "metadata": {
            "tags": []
          },
          "execution_count": 54
        }
      ]
    },
    {
      "cell_type": "code",
      "metadata": {
        "id": "pqR6XSFS1P8r"
      },
      "source": [
        "class TrainDataset(torch.utils.data.Dataset):\n",
        "    def __init__(self, dataset, indices, transforms=None):\n",
        "        self.dataset = dataset\n",
        "        self.indices = indices\n",
        "        self.transforms = transforms\n",
        "\n",
        "    def __len__(self):\n",
        "        return len(self.indices)\n",
        "    \n",
        "    def __getitem__(self, idx):\n",
        "        row = self.dataset.iloc[idx]\n",
        "        id = row.id\n",
        "        label = row.masterCategory\n",
        "        path = f\"/content/fashion-dataset/images/{id}.jpg\"\n",
        "        image = Image.open(path)\n",
        "        if self.transforms:\n",
        "            image = self.transforms(image)\n",
        "        return image, mapper.get(label)\n"
      ],
      "execution_count": 55,
      "outputs": []
    },
    {
      "cell_type": "code",
      "metadata": {
        "id": "XTTGx0JI5MR2"
      },
      "source": [
        "IMAGE_SIZE = 128\n",
        "\n",
        "transform = transforms.Compose([\n",
        "    transforms.ToTensor(),\n",
        "    transforms.Grayscale(1),\n",
        "    transforms.Resize(IMAGE_SIZE),\n",
        "    transforms.CenterCrop(IMAGE_SIZE),\n",
        "    transforms.Normalize(mean=[.8], std=[.5])\n",
        "])"
      ],
      "execution_count": 56,
      "outputs": []
    },
    {
      "cell_type": "code",
      "metadata": {
        "id": "Kahpp1ME5Cq7"
      },
      "source": [
        "train_dataset = TrainDataset(styles_df, train_df.indices, transforms=transform)\n",
        "valid_dataset = TrainDataset(styles_df, valid_df, transforms=transform)"
      ],
      "execution_count": 57,
      "outputs": []
    },
    {
      "cell_type": "code",
      "metadata": {
        "id": "JsYcKvO75ODd",
        "colab": {
          "base_uri": "https://localhost:8080/",
          "height": 285
        },
        "outputId": "1ddf9655-ca0e-4fcd-c29f-59dae99a04c1"
      },
      "source": [
        "img, label = train_dataset[155]\n",
        "print(img.shape)\n",
        "print(label)\n",
        "plt.imshow(img.reshape(IMAGE_SIZE, IMAGE_SIZE), cmap='binary')\n",
        "plt.axis('off');"
      ],
      "execution_count": 58,
      "outputs": [
        {
          "output_type": "stream",
          "text": [
            "torch.Size([1, 128, 128])\n",
            "2\n"
          ],
          "name": "stdout"
        },
        {
          "output_type": "display_data",
          "data": {
            "image/png": "[encoded data removed]",
            "text/plain": [
              "<Figure size 432x288 with 1 Axes>"
            ]
          },
          "metadata": {
            "tags": [],
            "needs_background": "light"
          }
        }
      ]
    },
    {
      "cell_type": "code",
      "metadata": {
        "id": "Fz-O5kKMFqtN",
        "colab": {
          "base_uri": "https://localhost:8080/"
        },
        "outputId": "eef2d938-a7f9-4e64-a4f1-0acedadb7e2b"
      },
      "source": [
        "BATCH_SIZE = 64\n",
        "\n",
        "train_dataloader = torch.utils.data.DataLoader(train_dataset, BATCH_SIZE, shuffle=True, num_workers=4)\n",
        "valid_dataloader = torch.utils.data.DataLoader(valid_dataset, BATCH_SIZE, shuffle=True, num_workers=4) "
      ],
      "execution_count": 59,
      "outputs": [
        {
          "output_type": "stream",
          "text": [
            "/usr/local/lib/python3.7/dist-packages/torch/utils/data/dataloader.py:477: UserWarning: This DataLoader will create 4 worker processes in total. Our suggested max number of worker in current system is 2, which is smaller than what this DataLoader is going to create. Please be aware that excessive worker creation might get DataLoader running slow or even freeze, lower the worker number to avoid potential slowness/freeze if necessary.\n",
            "  cpuset_checked))\n"
          ],
          "name": "stderr"
        }
      ]
    },
    {
      "cell_type": "code",
      "metadata": {
        "colab": {
          "base_uri": "https://localhost:8080/"
        },
        "id": "4IHz9HUK9VuS",
        "outputId": "27d6d0bb-dd44-45a8-feee-e6cd5b913f0e"
      },
      "source": [
        "input_size = IMAGE_SIZE ** 2\n",
        "hidden_size = [256, 64]\n",
        "output_size = 7\n",
        "\n",
        "model = nn.Sequential(\n",
        "    nn.Linear(input_size, hidden_size[0]),\n",
        "    nn.ReLU(),\n",
        "    nn.Linear(hidden_size[0], hidden_size[1]),\n",
        "    nn.ReLU(),\n",
        "    nn.Linear(hidden_size[1], output_size),\n",
        "    nn.LogSoftmax(dim=1)\n",
        ")\n",
        "model"
      ],
      "execution_count": 60,
      "outputs": [
        {
          "output_type": "execute_result",
          "data": {
            "text/plain": [
              "Sequential(\n",
              "  (0): Linear(in_features=16384, out_features=256, bias=True)\n",
              "  (1): ReLU()\n",
              "  (2): Linear(in_features=256, out_features=64, bias=True)\n",
              "  (3): ReLU()\n",
              "  (4): Linear(in_features=64, out_features=7, bias=True)\n",
              "  (5): LogSoftmax(dim=1)\n",
              ")"
            ]
          },
          "metadata": {
            "tags": []
          },
          "execution_count": 60
        }
      ]
    },
    {
      "cell_type": "code",
      "metadata": {
        "id": "ts5iU5BkF__g"
      },
      "source": [
        "criterion =nn.CrossEntropyLoss()\n",
        "optimizer = torch.optim.Adam(model.parameters())"
      ],
      "execution_count": 61,
      "outputs": []
    },
    {
      "cell_type": "code",
      "metadata": {
        "id": "YhoFQ2i6Hr72"
      },
      "source": [
        "if torch.cuda.is_available():\n",
        "    model = model.cuda()\n",
        "    optimizer = optimizer"
      ],
      "execution_count": 62,
      "outputs": []
    },
    {
      "cell_type": "code",
      "metadata": {
        "colab": {
          "base_uri": "https://localhost:8080/",
          "height": 339
        },
        "id": "1M3X2c9L-0P-",
        "outputId": "80c04cbf-269a-4118-d0b3-c8c789ae669d"
      },
      "source": [
        "epochs = 1\n",
        "\n",
        "for e in range(epochs):\n",
        "    train_running_loss = 0.0\n",
        "    valid_running_loss = 0.0\n",
        "\n",
        "    for images, labels in tqdm(train_dataloader, position=0, leave=True, desc='Training'):\n",
        "        images = images.view(-1, 128*128)\n",
        "        labels =labels.long()\n",
        "        if torch.cuda.is_available():\n",
        "            images = images.cuda()\n",
        "            labels = labels.cuda()\n",
        "        optimizer.zero_grad()\n",
        "        \n",
        "        output = model(images)\n",
        "        loss = criterion(output, labels)\n",
        "        loss.backward()\n",
        "        optimizer.step()\n",
        "\n",
        "        train_running_loss += loss.item() / BATCH_SIZE\n",
        "\n",
        "    with torch.no_grad():\n",
        "        for images, labels in tqdm(valid_dataloader, position=0, leave=True, desc='Validation'):\n",
        "            images = images.view(-1, 128*128)\n",
        "            labels =labels.long()\n",
        "            if torch.cuda.is_available():\n",
        "                images = images.cuda()\n",
        "                labels = labels.cuda()\n",
        "\n",
        "            output = model(images)\n",
        "            loss = criterion(output, labels)\n",
        "\n",
        "            valid_running_loss += loss.item() / BATCH_SIZE\n",
        "\n",
        "    print('[Epoch: %d, Iteration: %5d] Train Loss: %.5f  |  Valid Loss: %.5f' % (e + 1, i + 1, train_running_loss, valid_running_loss))\n",
        "    running_loss = 0.0\n",
        "\n",
        "print('Finished Training')"
      ],
      "execution_count": 63,
      "outputs": [
        {
          "output_type": "stream",
          "text": [
            "\rTraining:   0%|          | 0/469 [00:00<?, ?it/s]/usr/local/lib/python3.7/dist-packages/torch/utils/data/dataloader.py:477: UserWarning: This DataLoader will create 4 worker processes in total. Our suggested max number of worker in current system is 2, which is smaller than what this DataLoader is going to create. Please be aware that excessive worker creation might get DataLoader running slow or even freeze, lower the worker number to avoid potential slowness/freeze if necessary.\n",
            "  cpuset_checked))\n",
            "Training: 100%|██████████| 469/469 [29:10<00:00,  3.73s/it]\n",
            "Validation: 100%|██████████| 226/226 [14:04<00:00,  3.74s/it]\n"
          ],
          "name": "stderr"
        },
        {
          "output_type": "error",
          "ename": "NameError",
          "evalue": "ignored",
          "traceback": [
            "\u001b[0;31m---------------------------------------------------------------------------\u001b[0m",
            "\u001b[0;31mNameError\u001b[0m                                 Traceback (most recent call last)",
            "\u001b[0;32m<ipython-input-63-ac8e7a465985>\u001b[0m in \u001b[0;36m<module>\u001b[0;34m()\u001b[0m\n\u001b[1;32m     33\u001b[0m             \u001b[0mvalid_running_loss\u001b[0m \u001b[0;34m+=\u001b[0m \u001b[0mloss\u001b[0m\u001b[0;34m.\u001b[0m\u001b[0mitem\u001b[0m\u001b[0;34m(\u001b[0m\u001b[0;34m)\u001b[0m \u001b[0;34m/\u001b[0m \u001b[0mBATCH_SIZE\u001b[0m\u001b[0;34m\u001b[0m\u001b[0;34m\u001b[0m\u001b[0m\n\u001b[1;32m     34\u001b[0m \u001b[0;34m\u001b[0m\u001b[0m\n\u001b[0;32m---> 35\u001b[0;31m     \u001b[0mprint\u001b[0m\u001b[0;34m(\u001b[0m\u001b[0;34m'[Epoch: %d, Iteration: %5d] Train Loss: %.5f  |  Valid Loss: %.5f'\u001b[0m \u001b[0;34m%\u001b[0m \u001b[0;34m(\u001b[0m\u001b[0me\u001b[0m \u001b[0;34m+\u001b[0m \u001b[0;36m1\u001b[0m\u001b[0;34m,\u001b[0m \u001b[0mi\u001b[0m \u001b[0;34m+\u001b[0m \u001b[0;36m1\u001b[0m\u001b[0;34m,\u001b[0m \u001b[0mtrain_running_loss\u001b[0m\u001b[0;34m,\u001b[0m \u001b[0mvalid_running_loss\u001b[0m\u001b[0;34m)\u001b[0m\u001b[0;34m)\u001b[0m\u001b[0;34m\u001b[0m\u001b[0;34m\u001b[0m\u001b[0m\n\u001b[0m\u001b[1;32m     36\u001b[0m     \u001b[0mrunning_loss\u001b[0m \u001b[0;34m=\u001b[0m \u001b[0;36m0.0\u001b[0m\u001b[0;34m\u001b[0m\u001b[0;34m\u001b[0m\u001b[0m\n\u001b[1;32m     37\u001b[0m \u001b[0;34m\u001b[0m\u001b[0m\n",
            "\u001b[0;31mNameError\u001b[0m: name 'i' is not defined"
          ]
        }
      ]
    },
    {
      "cell_type": "code",
      "metadata": {
        "id": "9NdpuS5IobST",
        "outputId": "0c7efc40-6c12-4323-804b-26222ff9c055",
        "colab": {
          "base_uri": "https://localhost:8080/"
        }
      },
      "source": [
        "print('[Epoch: %d] Train Loss: %.5f  |  Valid Loss: %.5f' % (e + 1, train_running_loss, valid_running_loss))"
      ],
      "execution_count": 64,
      "outputs": [
        {
          "output_type": "stream",
          "text": [
            "[Epoch: 1] Train Loss: 1.88422  |  Valid Loss: 0.74220\n"
          ],
          "name": "stdout"
        }
      ]
    },
    {
      "cell_type": "code",
      "metadata": {
        "id": "0-63iugkoe1k"
      },
      "source": [
        ""
      ],
      "execution_count": null,
      "outputs": []
    }
  ]
}